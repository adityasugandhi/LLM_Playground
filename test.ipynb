{
 "cells": [
  {
   "cell_type": "code",
   "execution_count": 7,
   "metadata": {},
   "outputs": [
    {
     "name": "stdout",
     "output_type": "stream",
     "text": [
      "/unity/f2/asugandhi/Downloads/LLM_Playground/Aditya_train.txt\n"
     ]
    },
    {
     "data": {
      "text/plain": [
       "{'writer_chroma': {'documents_written': None}}"
      ]
     },
     "execution_count": 7,
     "metadata": {},
     "output_type": "execute_result"
    }
   ],
   "source": [
    "from haystack import Pipeline, Document\n",
    "from haystack.components.converters import TextFileToDocument\n",
    "from haystack.components.writers import DocumentWriter\n",
    "from haystack_integrations.document_stores.chroma import ChromaDocumentStore\n",
    "from haystack_integrations.components.retrievers.chroma import ChromaQueryTextRetriever\n",
    "from pathlib import Path\n",
    "file_path = Path(\"Aditya_train.txt\")\n",
    "absolute_file_path = file_path.resolve()\n",
    "chroma_store = ChromaDocumentStore()\n",
    "# Resolve the absolute path\n",
    "absolute_file_path = file_path.resolve()\n",
    "print(absolute_file_path)\n",
    "pipeline = Pipeline()\n",
    "pipeline.add_component(\"converter\", TextFileToDocument())\n",
    "pipeline.add_component(\"writer_chroma\", DocumentWriter(document_store=chroma_store))\n",
    "pipeline.connect(\"converter\",\"writer_chroma\")\n",
    "pipeline.run(\n",
    "    {\"converter\": {\"sources\": [str(absolute_file_path)]}}\n",
    ")"
   ]
  },
  {
   "cell_type": "code",
   "execution_count": 8,
   "metadata": {},
   "outputs": [
    {
     "name": "stdout",
     "output_type": "stream",
     "text": [
      "Document(id=4131426fc6c30a306d6379a1d040425f2998e701287f2c255d53d6ad03d4c95d, content: 'Aditya Sugandhi's journey as a Software Engineer is characterized by a deep commitment to excellence...', meta: {'file_path': '/unity/f2/asugandhi/Downloads/LLM_Playground/Aditya_train.txt'}, score: 1.7037668228149414, embedding: vector of size 384)\n"
     ]
    }
   ],
   "source": [
    "querying = Pipeline()\n",
    "querying.add_component(\"retriever\", ChromaQueryTextRetriever(chroma_store))\n",
    "results = querying.run({\"retriever\": {\"query\": \"SAS\", \"top_k\": 1}})\n",
    "print(results['retriever']['documents'][0])"
   ]
  },
  {
   "cell_type": "code",
   "execution_count": 9,
   "metadata": {},
   "outputs": [
    {
     "name": "stderr",
     "output_type": "stream",
     "text": [
      "Number of requested results 3 is greater than number of elements in index 2, updating n_results = 2\n"
     ]
    },
    {
     "data": {
      "text/plain": [
       "{'reader': {'answers': [ExtractedAnswer(query=\"Who are Aditya's friends?\", score=0.8281590938568115, data='SAS, Hunterr, MF, Rocco', document=Document(id=4131426fc6c30a306d6379a1d040425f2998e701287f2c255d53d6ad03d4c95d, content: 'Aditya Sugandhi's journey as a Software Engineer is characterized by a deep commitment to excellence...', meta: {'file_path': '/unity/f2/asugandhi/Downloads/LLM_Playground/Aditya_train.txt'}, score: 1.3431967496871948, embedding: vector of size 384), context=None, document_offset=ExtractedAnswer.Span(start=5015, end=5038), context_offset=None, meta={}),\n",
       "   ExtractedAnswer(query=\"Who are Aditya's friends?\", score=0.3937305212020874, data='\\n', document=Document(id=1ab54edb49eae6dff289cbd2de1ab7426322d24f1be582d0dce19a209d36d164, content: 'Aditya Sugandhi's journey as a Software Engineer is characterized by a deep commitment to excellence...', meta: {'file_path': '/unity/f2/asugandhi/Downloads/LLM_Playground/Aditya_train.txt'}, score: 1.3431967496871948, embedding: vector of size 384), context=None, document_offset=ExtractedAnswer.Span(start=3345, end=3346), context_offset=None, meta={}),\n",
       "   ExtractedAnswer(query=\"Who are Aditya's friends?\", score=0.1041818966035919, data=None, document=None, context=None, document_offset=None, context_offset=None, meta={})]}}"
      ]
     },
     "execution_count": 9,
     "metadata": {},
     "output_type": "execute_result"
    }
   ],
   "source": [
    "from haystack import Document, Pipeline\n",
    "# from haystack.document_stores.in_memory import InMemoryDocumentStore\n",
    "from haystack_integrations.components.retrievers.chroma import ChromaQueryTextRetriever\n",
    "from haystack.components.readers import ExtractiveReader\n",
    "\n",
    "\n",
    "# document_store = InMemoryDocumentStore()\n",
    "# document_store.write_documents(docs)\n",
    "\n",
    "retriever = ChromaQueryTextRetriever(document_store = chroma_store)\n",
    "#ExtractiveReader to extract answers from the relevant context\n",
    "reader = ExtractiveReader(model=\"deepset/roberta-base-squad2-distilled\")\n",
    "\n",
    "extractive_qa_pipeline = Pipeline()\n",
    "extractive_qa_pipeline.add_component(instance=retriever, name=\"retriever\")\n",
    "extractive_qa_pipeline.add_component(instance=reader, name=\"reader\")\n",
    "\n",
    "extractive_qa_pipeline.connect(\"retriever.documents\", \"reader.documents\")\n",
    "\n",
    "query = \"Who are Aditya's friends?\"\n",
    "extractive_qa_pipeline.run(data={\"retriever\": {\"query\": query, \"top_k\": 3}, \n",
    "                                   \"reader\": {\"query\": query, \"top_k\": 2}})"
   ]
  }
 ],
 "metadata": {
  "kernelspec": {
   "display_name": "RAGAPP",
   "language": "python",
   "name": "python3"
  },
  "language_info": {
   "codemirror_mode": {
    "name": "ipython",
    "version": 3
   },
   "file_extension": ".py",
   "mimetype": "text/x-python",
   "name": "python",
   "nbconvert_exporter": "python",
   "pygments_lexer": "ipython3",
   "version": "3.10.13"
  }
 },
 "nbformat": 4,
 "nbformat_minor": 2
}
